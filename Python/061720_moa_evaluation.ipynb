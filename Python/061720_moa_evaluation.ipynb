{
 "cells": [
  {
   "cell_type": "code",
   "execution_count": 59,
   "metadata": {},
   "outputs": [],
   "source": [
    "import time\n",
    "from scipy.stats import median_absolute_deviation\n",
    "import scipy.stats\n",
    "import numpy as np\n",
    "import pandas as pd\n",
    "import sqlite3\n",
    "from tqdm import tqdm\n",
    "import glob\n",
    "import os\n",
    "import matplotlib.pyplot as plt\n",
    "from sklearn.preprocessing import StandardScaler\n",
    "from functools import partial, reduce\n",
    "import plotnine as gg\n"
   ]
  },
  {
   "cell_type": "code",
   "execution_count": 60,
   "metadata": {},
   "outputs": [],
   "source": [
    "path = '/Users/habbasi/Desktop/TA/code/cr_median.csv'\n",
    "metadata_dfpath = '/Users/habbasi/Desktop/TA/input/metadata_TA.csv'\n",
    "meta2path = '/Users/habbasi/Desktop/TA/input/metadata_TA_2.csv'\n"
   ]
  },
  {
   "cell_type": "markdown",
   "metadata": {},
   "source": [
    "## loading data"
   ]
  },
  {
   "cell_type": "code",
   "execution_count": 61,
   "metadata": {},
   "outputs": [
    {
     "data": {
      "text/html": [
       "<div>\n",
       "<style scoped>\n",
       "    .dataframe tbody tr th:only-of-type {\n",
       "        vertical-align: middle;\n",
       "    }\n",
       "\n",
       "    .dataframe tbody tr th {\n",
       "        vertical-align: top;\n",
       "    }\n",
       "\n",
       "    .dataframe thead th {\n",
       "        text-align: right;\n",
       "    }\n",
       "</style>\n",
       "<table border=\"1\" class=\"dataframe\">\n",
       "  <thead>\n",
       "    <tr style=\"text-align: right;\">\n",
       "      <th></th>\n",
       "      <th>Var1</th>\n",
       "      <th>Var2</th>\n",
       "      <th>value</th>\n",
       "      <th>Metadata_moa.x</th>\n",
       "      <th>Metadata_Plate_Map_Name.x</th>\n",
       "      <th>Metadata_moa.y</th>\n",
       "      <th>Metadata_Plate_Map_Name.y</th>\n",
       "    </tr>\n",
       "  </thead>\n",
       "  <tbody>\n",
       "    <tr>\n",
       "      <th>0</th>\n",
       "      <td>BRDN0000464846</td>\n",
       "      <td>BRDN0000464846</td>\n",
       "      <td>1.000000</td>\n",
       "      <td>Transcription Factors</td>\n",
       "      <td>TAORF_REFERENCE_SET</td>\n",
       "      <td>Transcription Factors</td>\n",
       "      <td>TAORF_REFERENCE_SET</td>\n",
       "    </tr>\n",
       "    <tr>\n",
       "      <th>1</th>\n",
       "      <td>BRDN0000464847</td>\n",
       "      <td>BRDN0000464846</td>\n",
       "      <td>0.986873</td>\n",
       "      <td>Transcription Factors</td>\n",
       "      <td>TAORF_REFERENCE_SET</td>\n",
       "      <td>Transcription Factors</td>\n",
       "      <td>TAORF_REFERENCE_SET</td>\n",
       "    </tr>\n",
       "    <tr>\n",
       "      <th>2</th>\n",
       "      <td>BRDN0000464848</td>\n",
       "      <td>BRDN0000464846</td>\n",
       "      <td>0.265101</td>\n",
       "      <td>Chromatin Modifiers</td>\n",
       "      <td>TAORF_REFERENCE_SET</td>\n",
       "      <td>Transcription Factors</td>\n",
       "      <td>TAORF_REFERENCE_SET</td>\n",
       "    </tr>\n",
       "    <tr>\n",
       "      <th>3</th>\n",
       "      <td>BRDN0000464849</td>\n",
       "      <td>BRDN0000464846</td>\n",
       "      <td>0.226072</td>\n",
       "      <td>RTK</td>\n",
       "      <td>TAORF_REFERENCE_SET</td>\n",
       "      <td>Transcription Factors</td>\n",
       "      <td>TAORF_REFERENCE_SET</td>\n",
       "    </tr>\n",
       "    <tr>\n",
       "      <th>4</th>\n",
       "      <td>BRDN0000464850</td>\n",
       "      <td>BRDN0000464846</td>\n",
       "      <td>0.261821</td>\n",
       "      <td>RTK</td>\n",
       "      <td>TAORF_REFERENCE_SET</td>\n",
       "      <td>Transcription Factors</td>\n",
       "      <td>TAORF_REFERENCE_SET</td>\n",
       "    </tr>\n",
       "  </tbody>\n",
       "</table>\n",
       "</div>"
      ],
      "text/plain": [
       "             Var1            Var2     value         Metadata_moa.x  \\\n",
       "0  BRDN0000464846  BRDN0000464846  1.000000  Transcription Factors   \n",
       "1  BRDN0000464847  BRDN0000464846  0.986873  Transcription Factors   \n",
       "2  BRDN0000464848  BRDN0000464846  0.265101    Chromatin Modifiers   \n",
       "3  BRDN0000464849  BRDN0000464846  0.226072                    RTK   \n",
       "4  BRDN0000464850  BRDN0000464846  0.261821                    RTK   \n",
       "\n",
       "  Metadata_Plate_Map_Name.x         Metadata_moa.y Metadata_Plate_Map_Name.y  \n",
       "0       TAORF_REFERENCE_SET  Transcription Factors       TAORF_REFERENCE_SET  \n",
       "1       TAORF_REFERENCE_SET  Transcription Factors       TAORF_REFERENCE_SET  \n",
       "2       TAORF_REFERENCE_SET  Transcription Factors       TAORF_REFERENCE_SET  \n",
       "3       TAORF_REFERENCE_SET  Transcription Factors       TAORF_REFERENCE_SET  \n",
       "4       TAORF_REFERENCE_SET  Transcription Factors       TAORF_REFERENCE_SET  "
      ]
     },
     "execution_count": 61,
     "metadata": {},
     "output_type": "execute_result"
    }
   ],
   "source": [
    "df = pd.read_csv(path)\n",
    "metadata_df = pd.read_csv(metadata_dfpath)\n",
    "meta2 = pd.read_csv(meta2path)\n",
    "df.shape\n",
    "\n",
    "metadata = (df.drop_duplicates(subset=['Var1', 'Metadata_moa.x', 'Metadata_Plate_Map_Name.x'])\n",
    "            .filter(['Var1', 'Metadata_moa.x', 'Metadata_Plate_Map_Name.x'], axis=1)\n",
    "            .rename(columns={'Var1': 'Metadata_broad_sample',\n",
    "                            \"Metadata_moa.x\": \"Metadata_moa\",\n",
    "                            \"Metadata_Plate_Map_Name.x\": \"Metadata_Plate_Map_Name\"})\n",
    "           )\n",
    "metadata.to_csv('/Users/habbasi/Desktop/meta.csv')\n",
    "\n",
    "\n",
    "df.head()"
   ]
  },
  {
   "cell_type": "markdown",
   "metadata": {},
   "source": [
    "## Converting long to wide matrix followed by normalization step and data precprocessing for enrichment score calculation"
   ]
  },
  {
   "cell_type": "code",
   "execution_count": 62,
   "metadata": {},
   "outputs": [
    {
     "data": {
      "text/plain": [
       "(20910, 10)"
      ]
     },
     "execution_count": 62,
     "metadata": {},
     "output_type": "execute_result"
    }
   ],
   "source": [
    "test = df.pivot(index='Var1', columns='Var2', values='value')\n",
    "test = test.drop(index=test.index[[0]], columns=test.columns[[0]])      \n",
    "\n",
    "def normalize_matrix(df):\n",
    "    tmp = df.where(np.triu(np.ones(df.shape), k=1).astype(bool)).stack()\n",
    "    tmp = (df - np.median(tmp))/median_absolute_deviation(tmp)\n",
    "    tmp = tmp/np.quantile(tmp, 0.999)*0.999\n",
    "    tmp[tmp > 1] = 1\n",
    "    tmp[tmp < -1] = -1\n",
    "    np.fill_diagonal(tmp.values,1)\n",
    "    return tmp\n",
    "\n",
    "prf = normalize_matrix(test)\n",
    "prf\n",
    "\n",
    "\n",
    "def prepare_sm(prf):\n",
    "    \n",
    "    tmp1 = (prf.stack()\n",
    "        .reset_index()\n",
    "        .rename(columns={'Var1': 'Var1',\n",
    "                    'Var2': 'Var2',\n",
    "                    0: \"Value\"})\n",
    "        .query('Var1 < Var2  and Var1 != \"DMSO\" and Var2 != \"DMSO\"')\n",
    "        .merge(metadata, left_on='Var1', right_on = 'Metadata_broad_sample', how='left')\n",
    "        .merge(metadata, left_on='Var2', right_on = 'Metadata_broad_sample', how='left')\n",
    "        .dropna()\n",
    "           )\n",
    "    tmp1['Metadata_moa_x'] = tmp1['Metadata_moa_x'].str.lower()\n",
    "    tmp1['Metadata_moa_y'] = tmp1['Metadata_moa_y'].str.lower()\n",
    "    tmp1['same_moa'] = tmp1.apply(lambda x: \"True\" if x['Metadata_moa_x'] == x['Metadata_moa_y'] else \"False\", axis=1)\n",
    "        \n",
    "\n",
    "    return tmp1\n",
    "    \n",
    "melt = prepare_sm(prf)\n",
    "melt.shape"
   ]
  },
  {
   "cell_type": "markdown",
   "metadata": {},
   "source": [
    "## Calculation of enrichment_top_connection"
   ]
  },
  {
   "cell_type": "code",
   "execution_count": 63,
   "metadata": {},
   "outputs": [
    {
     "data": {
      "text/plain": [
       "0.6002538533456374"
      ]
     },
     "execution_count": 63,
     "metadata": {},
     "output_type": "execute_result"
    }
   ],
   "source": [
    "from numpy import arange\n",
    "\n",
    "def enrichment_top_conn(melt):\n",
    "    \n",
    "    top_perc = [num for num in arange(0.98, 0.997, 0.002)]\n",
    "    enrichment_score = []\n",
    "    for i, p in enumerate(top_perc):\n",
    "        \n",
    "        thr = np.quantile(melt.Value, p)\n",
    "        v11 = (melt.query('Value > @thr  and same_moa == \"True\"').shape[0])\n",
    "        v12 = (melt.query('Value > @thr  and same_moa != \"True\"').shape[0])\n",
    "        v21 = (melt.query('Value < @thr  and same_moa == \"True\"').shape[0])\n",
    "        v22 = (melt.query('Value < @thr  and same_moa != \"True\"').shape[0])\n",
    "        \n",
    "        Vector = np.asarray([[v11, v12], [v21, v22]])\n",
    "        fishertest = scipy.stats.fisher_exact(Vector, alternative=\"greater\")\n",
    "        \n",
    "        result = {\"top_perc\": p,\"odds_ratio\": fishertest[0], \"Pvalue\": fishertest[1]}\n",
    "        enrichment_score.append(result)\n",
    "    tmp = pd.DataFrame(enrichment_score)\n",
    "    tmp['top_perc'] = tmp['top_perc'].apply(lambda x: (1 - x)*100)\n",
    "    \n",
    "        \n",
    "    return tmp\n",
    "    \n",
    "score = enrichment_top_conn(melt)\n",
    "thr = np.quantile(melt.Value, 0.98)\n",
    "thr"
   ]
  },
  {
   "cell_type": "markdown",
   "metadata": {},
   "source": [
    "### Plotting"
   ]
  },
  {
   "cell_type": "code",
   "execution_count": 64,
   "metadata": {},
   "outputs": [
    {
     "data": {
      "image/png": "[encoded data removed]",
      "text/plain": [
       "<Figure size 640x480 with 1 Axes>"
      ]
     },
     "metadata": {},
     "output_type": "display_data"
    },
    {
     "data": {
      "text/plain": [
       "<ggplot: (7020225653)>"
      ]
     },
     "execution_count": 64,
     "metadata": {},
     "output_type": "execute_result"
    }
   ],
   "source": [
    "(gg.ggplot(data=score,mapping=gg.aes(x='top_perc',y='odds_ratio'))\n",
    "    + gg.geom_line(color='#de2d26')\n",
    "    + gg.xlab(\"p\")\n",
    "    + gg.ylab(\"Folds of enrichment\")\n",
    "    + gg.labs(title=\"Folds of enrichment for top p% connections \\n to have same MOAs/Pathways\")\n",
    "    + gg.theme_bw()\n",
    ")"
   ]
  },
  {
   "cell_type": "code",
   "execution_count": null,
   "metadata": {},
   "outputs": [],
   "source": []
  }
 ],
 "metadata": {
  "kernelspec": {
   "display_name": "Python 3",
   "language": "python",
   "name": "python3"
  },
  "language_info": {
   "codemirror_mode": {
    "name": "ipython",
    "version": 3
   },
   "file_extension": ".py",
   "mimetype": "text/x-python",
   "name": "python",
   "nbconvert_exporter": "python",
   "pygments_lexer": "ipython3",
   "version": "3.7.6"
  }
 },
 "nbformat": 4,
 "nbformat_minor": 4
}
